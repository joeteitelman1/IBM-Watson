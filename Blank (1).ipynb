{
 "cells": [
  {
   "cell_type": "markdown",
   "metadata": {
    "collapsed": true
   },
   "source": [
    "# My Jupyter Notebook on IBM Watson Studio "
   ]
  },
  {
   "cell_type": "markdown",
   "metadata": {},
   "source": [
    "**Joseph Teitelman** "
   ]
  },
  {
   "cell_type": "markdown",
   "metadata": {},
   "source": [
    "Prior Occupations: Secondary Mathematics Teacher and Statistician; Desired Occupation Data Scientist"
   ]
  },
  {
   "cell_type": "markdown",
   "metadata": {},
   "source": [
    "*I'd like to become a data scientist since I have a passion for mathematics and statistics, and would love to apply data analysis to the fields of education and healthcare.*"
   ]
  },
  {
   "cell_type": "markdown",
   "metadata": {},
   "source": [
    "### In the next cell, I will print the sum of 2 and 7, and then  take the square root of this sum.  The result, of course, should be 3."
   ]
  },
  {
   "cell_type": "code",
   "execution_count": 2,
   "metadata": {},
   "outputs": [
    {
     "name": "stdout",
     "output_type": "stream",
     "text": [
      "3\n"
     ]
    }
   ],
   "source": [
    "#summing 2 and 7 and taking the square root of the result\n",
    "print(int((2 + 7)**.5))"
   ]
  },
  {
   "cell_type": "markdown",
   "metadata": {},
   "source": [
    " - first bullet point\n",
    " - second bullet point\n",
    " - third bullet point\n",
    "   \n",
    "   \n",
    "1. first ordered point\n",
    "2. second ordered point\n",
    "3. third ordered point\n",
    "\n",
    "\n",
    "[Google.com](http://www.google.com)\n",
    "\n",
    "\n",
    "| First Column  | Second Column  | Third Column  |\n",
    "|:-------------:|:--------------:|:-------------:|\n",
    "|  row-column 11| row-column 12  | row-column 13 |\n",
    "|  row-column 21| row-column 22  | row-column 23 |\n",
    "|  row-column 31| row-column 32  | row-column 33 |"
   ]
  },
  {
   "cell_type": "markdown",
   "metadata": {},
   "source": [
    "Here's the Link for this Notebook:  https://dataplatform.cloud.ibm.com/analytics/notebooks/v2/9773e9b6-3a62-4f47-b494-2e2d2ce7abfd/view?access_token=57c77d1135198cb538a95a6913cc11c9d584707d48d65aa28e8589f4c241fff0&context=cpdaas"
   ]
  },
  {
   "cell_type": "code",
   "execution_count": null,
   "metadata": {},
   "outputs": [],
   "source": []
  }
 ],
 "metadata": {
  "kernelspec": {
   "display_name": "Python 3.10",
   "language": "python",
   "name": "python3"
  },
  "language_info": {
   "codemirror_mode": {
    "name": "ipython",
    "version": 3
   },
   "file_extension": ".py",
   "mimetype": "text/x-python",
   "name": "python",
   "nbconvert_exporter": "python",
   "pygments_lexer": "ipython3",
   "version": "3.10.12"
  }
 },
 "nbformat": 4,
 "nbformat_minor": 1
}
